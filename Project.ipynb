{
 "cells": [
  {
   "cell_type": "code",
   "execution_count": null,
   "id": "5115b7e5-64c2-42c0-90a5-21422417860c",
   "metadata": {},
   "outputs": [],
   "source": [
    "#this is a funny gamer test for funny gamers"
   ]
  }
 ],
 "metadata": {
  "kernelspec": {
   "display_name": "Python 3 (ipykernel)",
   "language": "python",
   "name": "python3"
  },
  "language_info": {
   "codemirror_mode": {
    "name": "ipython",
    "version": 3
   },
   "file_extension": ".py",
   "mimetype": "text/x-python",
   "name": "python",
   "nbconvert_exporter": "python",
   "pygments_lexer": "ipython3",
   "version": "3.8.10"
  }
 },
 "nbformat": 4,
 "nbformat_minor": 5
}
