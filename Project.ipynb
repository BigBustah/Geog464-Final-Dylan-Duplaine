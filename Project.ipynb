{
 "cells": [
  {
   "cell_type": "code",
   "execution_count": null,
   "id": "5115b7e5-64c2-42c0-90a5-21422417860c",
   "metadata": {},
   "outputs": [],
   "source": [
    "#download necessary packages\n",
    "%pip install pandas geopandas matplotlib rioxarray xarray"
   ]
  },
  {
   "cell_type": "code",
   "execution_count": null,
   "id": "16de345b-bce0-46d0-98e9-4f7649fe1cf4",
   "metadata": {
    "tags": []
   },
   "outputs": [],
   "source": [
    "import pandas as pd\n",
    "import geopandas as gpd\n",
    "import matplotlib\n",
    "from glob import glob"
   ]
  },
  {
   "cell_type": "code",
   "execution_count": null,
   "id": "c825a830-ab6f-4981-9ea1-db336f28da6e",
   "metadata": {},
   "outputs": [],
   "source": [
    "#Read data\n",
    "df2016 = pd.read_csv('2016.csv')\n",
    "df2021 = pd.read_csv('2021.csv')"
   ]
  },
  {
   "cell_type": "code",
   "execution_count": null,
   "id": "5494c17f-1104-4303-8a05-d9fe054b991a",
   "metadata": {},
   "outputs": [],
   "source": [
    "df2021.head()"
   ]
  },
  {
   "cell_type": "code",
   "execution_count": null,
   "id": "49f86234-64d7-49d1-8202-c3a066aa6cc2",
   "metadata": {
    "tags": []
   },
   "outputs": [],
   "source": [
    "my_sep = \",\"\n",
    "my_headers = [\"GEO UID\",\n",
    "\"DA name\",\n",
    "\"English Only\",\n",
    "\"French Only\",\n",
    "\"English and French\",\n",
    "\"Neither\",\n",
    "\"Work language: English\",\n",
    "\"Work language: French\",\n",
    "\"Non-immigrants\",\n",
    "\"Immigrants\"]\n",
    "df_2016 = pd.read_csv(\"2016.csv\", sep = my_sep, header = 0, names = my_headers)\n",
    "df_2021 = pd.read_csv(\"2021.csv\", sep = my_sep, header = 0, names = my_headers)"
   ]
  },
  {
   "cell_type": "code",
   "execution_count": null,
   "id": "f0b79cec-f78c-40ff-848e-e892080950d2",
   "metadata": {
    "tags": []
   },
   "outputs": [],
   "source": [
    "df_2016"
   ]
  },
  {
   "cell_type": "code",
   "execution_count": null,
   "id": "e34176c8-d86f-49f1-bbd8-e78205e8c34c",
   "metadata": {
    "tags": []
   },
   "outputs": [],
   "source": [
    "df_2021"
   ]
  },
  {
   "cell_type": "code",
   "execution_count": null,
   "id": "1d9c0da2-1097-450c-998e-1ae7f934dc69",
   "metadata": {},
   "outputs": [],
   "source": []
  }
 ],
 "metadata": {
  "kernelspec": {
   "display_name": "Python 3 (ipykernel)",
   "language": "python",
   "name": "python3"
  },
  "language_info": {
   "codemirror_mode": {
    "name": "ipython",
    "version": 3
   },
   "file_extension": ".py",
   "mimetype": "text/x-python",
   "name": "python",
   "nbconvert_exporter": "python",
   "pygments_lexer": "ipython3",
   "version": "3.10.7"
  }
 },
 "nbformat": 4,
 "nbformat_minor": 5
}
